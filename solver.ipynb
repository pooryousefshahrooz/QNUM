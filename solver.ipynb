{
 "cells": [
  {
   "cell_type": "code",
   "execution_count": null,
   "id": "a5e7833f",
   "metadata": {},
   "outputs": [],
   "source": [
    "\n",
    "import csv\n",
    "import os\n",
    "import sys\n",
    "from docplex.mp.progress import *\n",
    "from docplex.mp.progress import SolutionRecorder\n",
    "import docplex.mp.model as cpx\n",
    "import time\n",
    "import math\n",
    "from absl import flags\n",
    "FLAGS = flags.FLAGS"
   ]
  },
  {
   "cell_type": "code",
   "execution_count": 1,
   "id": "5d68872b",
   "metadata": {},
   "outputs": [],
   "source": [
    "class Solver:\n",
    "    def __init__(self):\n",
    "        pass\n",
    "    def get_product(self,path):\n",
    "        result = 1\n",
    "        for edge in path:\n",
    "            result = w_vars[l]*result\n",
    "        return result\n",
    "    \n",
    "    def CPLEX_maximizing_QNU(self,wk_idx,network):\n",
    "      \n",
    "        opt_model = cpx.Model(name=\"QNUM\")\n",
    "        r_vars  = {(f,p): opt_model.continuous_var(lb=0, ub= network.max_edge_capacity,\n",
    "                                  name=\"r_{0}_{1}\".format(f,p))  for f in network.each_wk_flow_ids[wk_idx]\n",
    "                                  for p in network.each_wk_flow_id_paths[wk_idx][f]}\n",
    "\n",
    "        w_vars  = {(l): opt_model.continuous_var(lb=0, ub= 1,\n",
    "                                  name=\"w_{0}\".format(l))\n",
    "                                  for l in network.set_E}\n",
    "        def get_product(path,w_vars):\n",
    "            result = 1\n",
    "            for l in path:\n",
    "                result = result*w_vars[l]\n",
    "            return result\n",
    "        #Edge constraint\n",
    "        for edge_id,edge in network.set_E.items():\n",
    "            opt_model.add_constraint(\n",
    "                opt_model.sum(r_vars[f,p]\n",
    "                for f in network.each_wk_flow_ids[wk_idx]\n",
    "                for p in network.each_wk_flow_id_paths[wk_idx][f]\n",
    "                if network.check_path_include_edge(edge_id,p))\n",
    "                 <= network.each_edge_d_value[edge_id] *(1- w_vars[edge_id]), ctname=\"edge_capacity_{0}\".format(edge_id))\n",
    "                \n",
    "        objective = opt_model.sum(math.log(r_vars[f,p]*(3*get_product(network.set_of_paths[p],w_vars)-1)) \n",
    "                            for f in network.each_wk_flow_ids[wk_idx]\n",
    "                            for p in network.each_wk_flow_id_paths[wk_idx][f]\n",
    "                              )\n",
    "\n",
    "\n",
    "        # for maximization\n",
    "        opt_model.maximize(objective)\n",
    "\n",
    "    #     opt_model.solve()\n",
    "        #opt_model.print_information()\n",
    "        #try:\n",
    "        opt_model.solve()\n",
    "\n",
    "\n",
    "#         print('docplex.mp.solution',opt_model.solution)\n",
    "        objective_value = -1\n",
    "        try:\n",
    "            if opt_model.solution:\n",
    "                objective_value =opt_model.solution.get_objective_value()\n",
    "        except ValueError:\n",
    "            print(ValueError)\n",
    "        return objective_value\n",
    "    \n",
    "    "
   ]
  },
  {
   "cell_type": "code",
   "execution_count": 5,
   "id": "8056d2b2",
   "metadata": {},
   "outputs": [
    {
     "ename": "SyntaxError",
     "evalue": "invalid syntax (3836828298.py, line 3)",
     "output_type": "error",
     "traceback": [
      "\u001b[0;36m  Cell \u001b[0;32mIn [5], line 3\u001b[0;36m\u001b[0m\n\u001b[0;31m    y = [y= y*a for a in x ]\u001b[0m\n\u001b[0m          ^\u001b[0m\n\u001b[0;31mSyntaxError\u001b[0m\u001b[0;31m:\u001b[0m invalid syntax\n"
     ]
    }
   ],
   "source": []
  },
  {
   "cell_type": "code",
   "execution_count": null,
   "id": "8c53c437",
   "metadata": {},
   "outputs": [],
   "source": []
  }
 ],
 "metadata": {
  "kernelspec": {
   "display_name": "Python 3 (ipykernel)",
   "language": "python",
   "name": "python3"
  },
  "language_info": {
   "codemirror_mode": {
    "name": "ipython",
    "version": 3
   },
   "file_extension": ".py",
   "mimetype": "text/x-python",
   "name": "python",
   "nbconvert_exporter": "python",
   "pygments_lexer": "ipython3",
   "version": "3.9.12"
  }
 },
 "nbformat": 4,
 "nbformat_minor": 5
}
