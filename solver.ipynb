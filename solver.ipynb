{
 "cells": [
  {
   "cell_type": "code",
   "execution_count": null,
   "id": "a5e7833f",
   "metadata": {},
   "outputs": [],
   "source": [
    "\n",
    "import csv\n",
    "import os\n",
    "import sys\n",
    "from docplex.mp.progress import *\n",
    "from docplex.mp.progress import SolutionRecorder\n",
    "import docplex.mp.model as cpx\n",
    "import networkx as nx\n",
    "import time\n",
    "from config import get_config\n",
    "from absl import flags\n",
    "FLAGS = flags.FLAGS"
   ]
  },
  {
   "cell_type": "code",
   "execution_count": 1,
   "id": "5d68872b",
   "metadata": {},
   "outputs": [],
   "source": [
    "class Solver:\n",
    "    def __init__(self):\n",
    "        pass\n",
    "    def get_product(self,path):\n",
    "        result = 1\n",
    "        for edge in path:\n",
    "            result = w_vars[l]*result\n",
    "        return result\n",
    "    def CPLEX_maximizing_QNU(self,wk_idx,network):\n",
    "      \n",
    "        opt_model = cpx.Model(name=\"QNUM\")\n",
    "        r_vars  = {(f,p): opt_model.continuous_var(lb=0, ub= network.max_edge_capacity,\n",
    "                                  name=\"r_{0}_{1}\".format(f,p))  for f in network.each_wk_flow_ids[wk_idx]\n",
    "                                  for p in network.each_wk_flow_id_paths[wk_idx][f]}\n",
    "\n",
    "        w_vars[l]  = {(l): opt_model.continuous_var(lb=0, ub= 1,\n",
    "                                  name=\"w_{0}\".format(l))\n",
    "                                  for l in network.set_E}\n",
    "        \n",
    "        #Edge constraint\n",
    "        for edge in network.set_E:\n",
    "            opt_model.add_constraint(\n",
    "                opt_model.sum(r_vars[f,p]\n",
    "                for f in network.each_wk_flow_ids[wk_idx]\n",
    "                for p in network.each_wk_flow_id_paths[wk_idx][f]\n",
    "                if network.check_path_include_edge(edge,p))\n",
    "                 <= network.d[edge] *(1- w_vars[edge]), ctname=\"edge_capacity_{0}\".format(edge))\n",
    "                \n",
    "        objective = opt_model.sum(log(r_vars[f,p]*(3*self.get_product(p)-1)) \n",
    "                            for f in network.each_wk_flow_ids[wk_idx]\n",
    "                            for p in network.each_wk_flow_id_paths[wk_idx][f]\n",
    "                            for l in network.set_E\n",
    "                              )\n",
    "\n",
    "\n",
    "        # for maximization\n",
    "        opt_model.maximize(objective)\n",
    "\n",
    "    #     opt_model.solve()\n",
    "        #opt_model.print_information()\n",
    "        #try:\n",
    "        opt_model.solve()\n",
    "\n",
    "\n",
    "#         print('docplex.mp.solution',opt_model.solution)\n",
    "        objective_value = -1\n",
    "        try:\n",
    "            if opt_model.solution:\n",
    "                objective_value =opt_model.solution.get_objective_value()\n",
    "        except ValueError:\n",
    "            print(ValueError)\n",
    "        return objective_value\n",
    "    \n",
    "    "
   ]
  },
  {
   "cell_type": "code",
   "execution_count": null,
   "id": "8056d2b2",
   "metadata": {},
   "outputs": [],
   "source": []
  }
 ],
 "metadata": {
  "kernelspec": {
   "display_name": "Python 3 (ipykernel)",
   "language": "python",
   "name": "python3"
  },
  "language_info": {
   "codemirror_mode": {
    "name": "ipython",
    "version": 3
   },
   "file_extension": ".py",
   "mimetype": "text/x-python",
   "name": "python",
   "nbconvert_exporter": "python",
   "pygments_lexer": "ipython3",
   "version": "3.9.12"
  }
 },
 "nbformat": 4,
 "nbformat_minor": 5
}
