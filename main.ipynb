{
 "cells": [
  {
   "cell_type": "code",
   "execution_count": 1,
   "id": "b7a3fd57",
   "metadata": {},
   "outputs": [],
   "source": [
    "import networkx as nx\n",
    "from itertools import islice\n",
    "import matplotlib.pyplot as plt\n",
    "import random\n",
    "from itertools import groupby\n",
    "import time\n",
    "import math as mt\n",
    "import csv\n",
    "import os\n",
    "import random\n",
    "from solver import PySCIP_solver\n",
    "from solver import CPLEX_solver\n",
    "from network import Network\n",
    "import pdb\n",
    "from os import listdir\n",
    "from os.path import isfile, join\n",
    "from threading import Thread"
   ]
  },
  {
   "cell_type": "code",
   "execution_count": null,
   "id": "2bf9cdb1",
   "metadata": {},
   "outputs": [],
   "source": [
    "print(\"start ...\")\n",
    "# solver = CPLEX_solver()\n",
    "solver = PySCIP_solver()\n",
    "network = Network()\n",
    "for backbone_link_lenght in [10,20,30,40,50,60]:\n",
    "    network.set_d_value_of_edges(backbone_link_lenght)\n",
    "    print(\"going to solve the QNUM optimization problem\")\n",
    "    utility = solver.maximizing_QNU(0,network)\n",
    "    print(\"for backbone link lenght %s we have utility %s\"%(backbone_link_lenght,utility))\n",
    "    with open(\"results/results.csv\", 'a') as newFile:                                \n",
    "        newFileWriter = csv.writer(newFile)\n",
    "        newFileWriter.writerow([backbone_link_lenght,utility])\n"
   ]
  },
  {
   "cell_type": "code",
   "execution_count": null,
   "id": "45360a90",
   "metadata": {},
   "outputs": [],
   "source": []
  }
 ],
 "metadata": {
  "kernelspec": {
   "display_name": "Python 3 (ipykernel)",
   "language": "python",
   "name": "python3"
  },
  "language_info": {
   "codemirror_mode": {
    "name": "ipython",
    "version": 3
   },
   "file_extension": ".py",
   "mimetype": "text/x-python",
   "name": "python",
   "nbconvert_exporter": "python",
   "pygments_lexer": "ipython3",
   "version": "3.9.12"
  }
 },
 "nbformat": 4,
 "nbformat_minor": 5
}
